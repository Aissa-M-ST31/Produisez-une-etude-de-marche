{
 "cells": [
  {
   "cell_type": "code",
   "execution_count": 1,
   "metadata": {
    "ExecuteTime": {
     "end_time": "2021-10-04T12:12:20.134543Z",
     "start_time": "2021-10-04T12:12:18.795699Z"
    }
   },
   "outputs": [
    {
     "ename": "ImportError",
     "evalue": "cannot import name 'dedent' from 'matplotlib.cbook' (C:\\Users\\HP\\anaconda3\\lib\\site-packages\\matplotlib\\cbook\\__init__.py)",
     "output_type": "error",
     "traceback": [
      "\u001b[1;31m---------------------------------------------------------------------------\u001b[0m",
      "\u001b[1;31mImportError\u001b[0m                               Traceback (most recent call last)",
      "\u001b[1;32m~\\AppData\\Local\\Temp/ipykernel_7772/751676044.py\u001b[0m in \u001b[0;36m<module>\u001b[1;34m\u001b[0m\n\u001b[0;32m     12\u001b[0m \u001b[1;32mimport\u001b[0m \u001b[0mcsv\u001b[0m\u001b[1;33m\u001b[0m\u001b[1;33m\u001b[0m\u001b[0m\n\u001b[0;32m     13\u001b[0m \u001b[0mget_ipython\u001b[0m\u001b[1;33m(\u001b[0m\u001b[1;33m)\u001b[0m\u001b[1;33m.\u001b[0m\u001b[0mrun_line_magic\u001b[0m\u001b[1;33m(\u001b[0m\u001b[1;34m'matplotlib'\u001b[0m\u001b[1;33m,\u001b[0m \u001b[1;34m'inline'\u001b[0m\u001b[1;33m)\u001b[0m\u001b[1;33m\u001b[0m\u001b[1;33m\u001b[0m\u001b[0m\n\u001b[1;32m---> 14\u001b[1;33m \u001b[1;32mfrom\u001b[0m \u001b[0mmpl_toolkits\u001b[0m\u001b[1;33m.\u001b[0m\u001b[0mbasemap\u001b[0m \u001b[1;32mimport\u001b[0m \u001b[0mBasemap\u001b[0m\u001b[1;33m\u001b[0m\u001b[1;33m\u001b[0m\u001b[0m\n\u001b[0m\u001b[0;32m     15\u001b[0m \u001b[1;32mfrom\u001b[0m \u001b[0mmpl_toolkits\u001b[0m\u001b[1;33m.\u001b[0m\u001b[0maxes_grid1\u001b[0m \u001b[1;32mimport\u001b[0m \u001b[0mmake_axes_locatable\u001b[0m\u001b[1;33m\u001b[0m\u001b[1;33m\u001b[0m\u001b[0m\n\u001b[0;32m     16\u001b[0m \u001b[1;32mimport\u001b[0m \u001b[0mwarnings\u001b[0m\u001b[1;33m\u001b[0m\u001b[1;33m\u001b[0m\u001b[0m\n",
      "\u001b[1;32m~\\anaconda3\\lib\\site-packages\\mpl_toolkits\\basemap\\__init__.py\u001b[0m in \u001b[0;36m<module>\u001b[1;34m\u001b[0m\n\u001b[0;32m     48\u001b[0m \u001b[1;32mfrom\u001b[0m \u001b[0mmatplotlib\u001b[0m\u001b[1;33m.\u001b[0m\u001b[0mimage\u001b[0m \u001b[1;32mimport\u001b[0m \u001b[0mimread\u001b[0m\u001b[1;33m\u001b[0m\u001b[1;33m\u001b[0m\u001b[0m\n\u001b[0;32m     49\u001b[0m \u001b[1;32mimport\u001b[0m \u001b[0msys\u001b[0m\u001b[1;33m,\u001b[0m \u001b[0mos\u001b[0m\u001b[1;33m,\u001b[0m \u001b[0mmath\u001b[0m\u001b[1;33m\u001b[0m\u001b[1;33m\u001b[0m\u001b[0m\n\u001b[1;32m---> 50\u001b[1;33m \u001b[1;32mfrom\u001b[0m \u001b[1;33m.\u001b[0m\u001b[0mproj\u001b[0m \u001b[1;32mimport\u001b[0m \u001b[0mProj\u001b[0m\u001b[1;33m\u001b[0m\u001b[1;33m\u001b[0m\u001b[0m\n\u001b[0m\u001b[0;32m     51\u001b[0m \u001b[1;32mimport\u001b[0m \u001b[0mnumpy\u001b[0m \u001b[1;32mas\u001b[0m \u001b[0mnp\u001b[0m\u001b[1;33m\u001b[0m\u001b[1;33m\u001b[0m\u001b[0m\n\u001b[0;32m     52\u001b[0m \u001b[1;32mimport\u001b[0m \u001b[0mnumpy\u001b[0m\u001b[1;33m.\u001b[0m\u001b[0mma\u001b[0m \u001b[1;32mas\u001b[0m \u001b[0mma\u001b[0m\u001b[1;33m\u001b[0m\u001b[1;33m\u001b[0m\u001b[0m\n",
      "\u001b[1;32m~\\anaconda3\\lib\\site-packages\\mpl_toolkits\\basemap\\proj.py\u001b[0m in \u001b[0;36m<module>\u001b[1;34m\u001b[0m\n\u001b[0;32m      4\u001b[0m \u001b[1;32mimport\u001b[0m \u001b[0mpyproj\u001b[0m\u001b[1;33m\u001b[0m\u001b[1;33m\u001b[0m\u001b[0m\n\u001b[0;32m      5\u001b[0m \u001b[1;32mimport\u001b[0m \u001b[0mmath\u001b[0m\u001b[1;33m\u001b[0m\u001b[1;33m\u001b[0m\u001b[0m\n\u001b[1;32m----> 6\u001b[1;33m \u001b[1;32mfrom\u001b[0m \u001b[0mmatplotlib\u001b[0m\u001b[1;33m.\u001b[0m\u001b[0mcbook\u001b[0m \u001b[1;32mimport\u001b[0m \u001b[0mdedent\u001b[0m\u001b[1;33m\u001b[0m\u001b[1;33m\u001b[0m\u001b[0m\n\u001b[0m\u001b[0;32m      7\u001b[0m \u001b[1;33m\u001b[0m\u001b[0m\n\u001b[0;32m      8\u001b[0m \u001b[0m__version__\u001b[0m \u001b[1;33m=\u001b[0m \u001b[1;34m'1.2.2'\u001b[0m\u001b[1;33m\u001b[0m\u001b[1;33m\u001b[0m\u001b[0m\n",
      "\u001b[1;31mImportError\u001b[0m: cannot import name 'dedent' from 'matplotlib.cbook' (C:\\Users\\HP\\anaconda3\\lib\\site-packages\\matplotlib\\cbook\\__init__.py)"
     ]
    }
   ],
   "source": [
    "# pip install matplotlib==3.2.2 #revenir à une version précédente car bug sinon\n",
    "import os\n",
    "os.environ['PROJ_LIB'] = r'C:\\Users\\HP\\anaconda3\\pkgs\\proj-6.2.1-h9f7ef89_0\\Library\\share\\proj'\n",
    "# # os.environ['PROJ_LIB'] = r'C:\\Users\\username\\AppData\\Local\\Continuum\\anaconda2\\pkgs\\proj4-4.9.2-vc10_0\\Library\\share'\n",
    "# pip install matplotlib==3.1.3\n",
    "\n",
    "import numpy as np\n",
    "import pandas as pd\n",
    "import matplotlib.pyplot as plt\n",
    "from matplotlib import colors\n",
    "import math\n",
    "import csv\n",
    "%matplotlib inline\n",
    "from mpl_toolkits.basemap import Basemap\n",
    "from mpl_toolkits.axes_grid1 import make_axes_locatable\n",
    "import warnings\n",
    "warnings.filterwarnings(\"ignore\")"
   ]
  },
  {
   "cell_type": "code",
   "execution_count": 2,
   "metadata": {
    "ExecuteTime": {
     "end_time": "2021-10-04T12:12:30.337063Z",
     "start_time": "2021-10-04T12:12:30.229292Z"
    }
   },
   "outputs": [],
   "source": [
    "#on télécharge le dataset comprenant les coordonnées GPS de chaque capitale\n",
    "url = 'INPUTS_FORMATION/LONG_LAT_numeric_plus.csv'\n",
    "# data = pd.read_csv(url, sep=';',encoding='utf-8')\n",
    "data = pd.read_csv(url, sep=';',encoding = 'ISO-8859-1') #prendre en cpte les accents\n",
    "df = data.copy()\n",
    "df['Zone'] = df['Zone'].str.title()\n",
    "df['Capitale'] = df['Capitale'].str.title()\n",
    "# df['Zone'].unique()\n",
    "\n",
    "#on télécharge le dataset final issu du Projet 5\n",
    "url = \"INPUTS_FORMATION/P5_table_basemap.csv\"\n",
    "data = pd.read_csv(url, sep=',',encoding='utf-8')\n",
    "# data = pd.read_csv(url, sep=',',encoding = 'ISO-8859-1') #prendre en cpte les accents\n",
    "table = data.copy()\n",
    "# table['Zone'].unique()\n",
    "\n",
    "#on renomme quelques Zones pour être conforme au dataset 'GPS'\n",
    "table['Zone'] = table['Zone'].replace(\"Bolivie (État plurinational de)\" ,'Bolivie')\n",
    "table['Zone'] = table['Zone'].replace(\"Venezuela (République bolivarienne du)\" ,'Venezuela')\n",
    "table['Zone'] = table['Zone'].replace(\"Iran (République islamique d')\",'Iran')\n",
    "table['Zone'] = table['Zone'].replace(\"Tchéquie (la)\",'Tchecoslovaquie')\n",
    "table['Zone'] = table['Zone'].replace(\"Chine - RAS de Hong-Kong\",'Hong Kong')\n",
    "table['Zone'] = table['Zone'].replace(\"Chine - RAS de Macao\",'Macao')\n",
    "table['Zone'] = table['Zone'].replace(\"Chine, Taiwan Province de\",'Taiwan')\n",
    "table['Zone'] = table['Zone'].replace(\"République populaire démocratique de Corée\",'Corée du Nord')\n",
    "table['Zone'] = table['Zone'].replace(\"République de Corée\",'Corée du Sud')\n",
    "table['Zone'] = table['Zone'].str.title()\n",
    "# vecteur_zone_renamed=table['Zone'].unique()\n",
    "# table['Zone'].to_csv(\"Documents/Dossier_AISSA/POLE_EMPLOI/OPENCLASSROOM/P3_mouacha_aissa/zone_tabl_renommee.csv\", index = False,encoding = \"ISO-8859-1\")\n",
    "\n",
    "############################ PREPARATION DU DF POUR LA TOTALITE DES PAYS ############################\n",
    "#on liste TOUS les pays\n",
    "list_pays_all = table['Zone'].unique()\n",
    "\n",
    "#parcours de la table et relève des informations suivantes\n",
    "List_pays_all = []        \n",
    "List_lat_all  = []\n",
    "List_long_all = []\n",
    "List_cap_all = []\n",
    "\n",
    "n = len(df)\n",
    "for i, row in df.iterrows():\n",
    "    Zone = df.iloc[i,df.columns.get_loc('Zone')]      \n",
    "#si pays contenu dans dataset global alors récupération de ses coordonnées\n",
    "    if (Zone in list_pays_all) : \n",
    "        pays = df.iloc[i,df.columns.get_loc('Zone')]\n",
    "        List_pays_all.append(pays)\n",
    "        capitale = df.iloc[i,df.columns.get_loc('Capitale')]\n",
    "        List_cap_all.append(capitale)\n",
    "        lat = df.iloc[i,df.columns.get_loc('Latitude')]\n",
    "        List_lat_all.append(lat)\n",
    "        long = df.iloc[i,df.columns.get_loc('Longitude')]\n",
    "        List_long_all.append(long)\n",
    "\n",
    "#création df avec ces Lists\n",
    "df_select_all = pd.DataFrame({'Zone': List_pays_all,'Capitale': List_cap_all,'Latitude': List_lat_all,'Longitude': List_long_all})\n",
    "df_select_all['Zone'].unique()\n",
    "#merge du df contenant les coordonnées 'GPS' au df principal\n",
    "df_vf = pd.merge(table,df_select_all,how=\"left\", on=\"Zone\")"
   ]
  },
  {
   "cell_type": "markdown",
   "metadata": {},
   "source": [
    "# Exportations mondiales de Viande de volailles en 2018"
   ]
  },
  {
   "cell_type": "code",
   "execution_count": 3,
   "metadata": {
    "ExecuteTime": {
     "end_time": "2021-10-04T12:12:32.745857Z",
     "start_time": "2021-10-04T12:12:32.731895Z"
    }
   },
   "outputs": [],
   "source": [
    "# produit = str('Viande de Volailles')\n",
    "# np.zeros((300, 250, 3), dtype = int)\n",
    "\n",
    "# # Extraction des data à visualiser\n",
    "# lat = df_vf['Latitude'].values.astype(int)\n",
    "# lon = df_vf['Longitude'].values\n",
    "# df_vf['Exportations - Quantité'] = df_vf['Exportations - Quantité'].replace(0 ,1) #pour contourner log10(0)\n",
    "# exportation = df_vf['Exportations - Quantité'].values                    #milliers de tonne\n",
    "\n",
    "# # Préparation du background de la map\n",
    "# fig = plt.figure(figsize=(20, 15))\n",
    "# m = Basemap(projection='cyl', resolution='c', lon_0=0) # whole map\n",
    "# m.etopo(scale=0.5, alpha=0.5)\n",
    "# m.shadedrelief()\n",
    "# m.drawcoastlines(color='gray')\n",
    "# m.drawcountries(color='gray')\n",
    "# m.drawstates(color='gray')\n",
    "\n",
    "# # rendre échelle couleur plus lisible\n",
    "# norm = colors.Normalize(df_vf['Exportations - Quantité'].min(), df_vf['Exportations - Quantité'].max())\n",
    "# m.scatter(lon,lat,latlon=True,c=np.log10(exportation), norm=norm,s=exportation,cmap='Reds',edgecolors = 'k',alpha=0.7)\n",
    "\n",
    "# # création colorbar + légende\n",
    "# # plt.colorbar(orientation=\"horizontal\", label=r'exportation')\n",
    "# bornm = np.log10(1)\n",
    "# bornp = np.log10(df_vf['Exportations - Quantité'].max())\n",
    "# plt.clim(bornm,bornp)\n",
    "\n",
    "# #affecter légende avec dummy points \n",
    "# for exportation in [250, 1000, 4000]: #(/!\\ attention au facteur d'échelle imposé dans le \"m.scatter\")\n",
    "#         plt.scatter([], [],  c='k', edgecolors = 'k', alpha=0.5, s=exportation, label=(str(\"      \")+str(exportation)) )\n",
    "# plt.legend(scatterpoints=1, frameon=False,labelspacing=4, loc='center left',title='Exportations (x 1000 tonnes)');\n",
    "# title = str('Exportations mondiales de ') + produit + str(' en 2018')\n",
    "# plt.title(title,fontsize=20)\n",
    "\n",
    "# #affichage de qlq données significtaives (nom zone)\n",
    "# df_vf_sample = df_vf[df_vf['Exportations - Quantité']>800]\n",
    "# n=len(df_vf_sample)\n",
    "# for i in range (n) :\n",
    "#     longi = df_vf_sample.iloc[i,df_vf_sample.columns.get_loc('Longitude')] \n",
    "#     lati  = df_vf_sample.iloc[i,df_vf_sample.columns.get_loc('Latitude')] \n",
    "#     zo    = df_vf_sample.iloc[i,df_vf_sample.columns.get_loc('Zone')] \n",
    "#     plt.plot(longi,lati, 'ok', markersize=3)\n",
    "#     plt.text(longi,lati, zo, fontsize=11);\n",
    "    \n",
    "# plt.savefig('OUTPUTS_FORMATION/P5_basemap_exportations.jpg',dpi=300)\n",
    "# plt.show()"
   ]
  },
  {
   "cell_type": "markdown",
   "metadata": {},
   "source": [
    "# Importations mondiales de Viande de volailles en 2018"
   ]
  },
  {
   "cell_type": "code",
   "execution_count": null,
   "metadata": {
    "ExecuteTime": {
     "end_time": "2021-10-04T12:12:20.142523Z",
     "start_time": "2021-10-04T12:12:20.141525Z"
    }
   },
   "outputs": [],
   "source": [
    "# produit = str('Viande de Volailles')\n",
    "# np.zeros((300, 250, 3), dtype = int)\n",
    "\n",
    "# # Extraction des data à visualiser\n",
    "# lat = df_vf['Latitude'].values.astype(int)\n",
    "# lon = df_vf['Longitude'].values\n",
    "# df_vf['Importations - Quantité'] = df_vf['Importations - Quantité'].replace(0 ,1) #pour contourner log10(0)\n",
    "# importation = df_vf['Importations - Quantité'].values                    #milliers de tonne\n",
    "\n",
    "# # Préparation du background de la map\n",
    "# fig = plt.figure(figsize=(20, 15))\n",
    "# m = Basemap(projection='cyl', resolution='c', lon_0=0) # whole map\n",
    "# m.etopo(scale=0.5, alpha=0.5)\n",
    "# m.shadedrelief()\n",
    "# m.drawcoastlines(color='gray')\n",
    "# m.drawcountries(color='gray')\n",
    "# m.drawstates(color='gray')\n",
    "\n",
    "# # rendre échelle couleur plus lisible\n",
    "# norm = colors.Normalize(df_vf['Importations - Quantité'].min(), df_vf['Importations - Quantité'].max())\n",
    "# m.scatter(lon,lat,latlon=True,c=np.log10(importation), norm=norm,s=importation,cmap='Reds',edgecolors = 'k',alpha=0.7)\n",
    "\n",
    "# # création colorbar + légende\n",
    "# # plt.colorbar(orientation=\"horizontal\", label=r'exportation')\n",
    "# bornm = np.log10(1)\n",
    "# bornp = np.log10(df_vf['Importations - Quantité'].max())\n",
    "# plt.clim(bornm,bornp)\n",
    "\n",
    "# #affecter légende avec dummy points \n",
    "# for importation in [10, 500, 1000]: #(/!\\ attention au facteur d'échelle imposé dans le \"m.scatter\")\n",
    "#         plt.scatter([], [],  c='k', edgecolors = 'k', alpha=0.5, s=importation, label=(str(\"      \")+str(importation)) )\n",
    "# plt.legend(scatterpoints=1, frameon=False,labelspacing=1.5, loc='center left',title='Importations (x 1000 tonnes)');\n",
    "# title = str('Importations mondiales de ') + produit + str(' en 2018')\n",
    "# plt.title(title,fontsize=20)\n",
    "\n",
    "# #affichage de qlq données significtaives (nom zone)\n",
    "# df_vf_sample = df_vf[df_vf['Importations - Quantité']>800]\n",
    "# n=len(df_vf_sample)\n",
    "# for i in range (n) :\n",
    "#     longi = df_vf_sample.iloc[i,df_vf_sample.columns.get_loc('Longitude')] \n",
    "#     lati  = df_vf_sample.iloc[i,df_vf_sample.columns.get_loc('Latitude')] \n",
    "#     zo    = df_vf_sample.iloc[i,df_vf_sample.columns.get_loc('Zone')] \n",
    "#     plt.plot(longi,lati, 'ok', markersize=3)\n",
    "#     plt.text(longi,lati, zo, fontsize=11);\n",
    "    \n",
    "# plt.savefig('OUTPUTS_FORMATION/P5_basemap_importations.jpg',dpi=300)\n",
    "# plt.show()"
   ]
  },
  {
   "cell_type": "markdown",
   "metadata": {},
   "source": [
    "# Balance commerciale : Viande de volailles en 2018"
   ]
  },
  {
   "cell_type": "code",
   "execution_count": 4,
   "metadata": {
    "ExecuteTime": {
     "end_time": "2021-10-04T12:12:36.907882Z",
     "start_time": "2021-10-04T12:12:36.404983Z"
    }
   },
   "outputs": [
    {
     "ename": "NameError",
     "evalue": "name 'Basemap' is not defined",
     "output_type": "error",
     "traceback": [
      "\u001b[1;31m---------------------------------------------------------------------------\u001b[0m",
      "\u001b[1;31mNameError\u001b[0m                                 Traceback (most recent call last)",
      "\u001b[1;32m~\\AppData\\Local\\Temp/ipykernel_7772/717779505.py\u001b[0m in \u001b[0;36m<module>\u001b[1;34m\u001b[0m\n\u001b[0;32m     18\u001b[0m \u001b[1;31m# Préparation du background de la map\u001b[0m\u001b[1;33m\u001b[0m\u001b[1;33m\u001b[0m\u001b[1;33m\u001b[0m\u001b[0m\n\u001b[0;32m     19\u001b[0m \u001b[0mfig\u001b[0m \u001b[1;33m=\u001b[0m \u001b[0mplt\u001b[0m\u001b[1;33m.\u001b[0m\u001b[0mfigure\u001b[0m\u001b[1;33m(\u001b[0m\u001b[0mfigsize\u001b[0m\u001b[1;33m=\u001b[0m\u001b[1;33m(\u001b[0m\u001b[1;36m20\u001b[0m\u001b[1;33m,\u001b[0m \u001b[1;36m15\u001b[0m\u001b[1;33m)\u001b[0m\u001b[1;33m)\u001b[0m\u001b[1;33m\u001b[0m\u001b[1;33m\u001b[0m\u001b[0m\n\u001b[1;32m---> 20\u001b[1;33m \u001b[0mm\u001b[0m \u001b[1;33m=\u001b[0m \u001b[0mBasemap\u001b[0m\u001b[1;33m(\u001b[0m\u001b[0mprojection\u001b[0m\u001b[1;33m=\u001b[0m\u001b[1;34m'cyl'\u001b[0m\u001b[1;33m,\u001b[0m \u001b[0mresolution\u001b[0m\u001b[1;33m=\u001b[0m\u001b[1;34m'c'\u001b[0m\u001b[1;33m,\u001b[0m \u001b[0mlon_0\u001b[0m\u001b[1;33m=\u001b[0m\u001b[1;36m0\u001b[0m\u001b[1;33m)\u001b[0m \u001b[1;31m# whole map\u001b[0m\u001b[1;33m\u001b[0m\u001b[1;33m\u001b[0m\u001b[0m\n\u001b[0m\u001b[0;32m     21\u001b[0m \u001b[0mm\u001b[0m\u001b[1;33m.\u001b[0m\u001b[0metopo\u001b[0m\u001b[1;33m(\u001b[0m\u001b[0mscale\u001b[0m\u001b[1;33m=\u001b[0m\u001b[1;36m0.5\u001b[0m\u001b[1;33m,\u001b[0m \u001b[0malpha\u001b[0m\u001b[1;33m=\u001b[0m\u001b[1;36m0.5\u001b[0m\u001b[1;33m)\u001b[0m\u001b[1;33m\u001b[0m\u001b[1;33m\u001b[0m\u001b[0m\n\u001b[0;32m     22\u001b[0m \u001b[0mm\u001b[0m\u001b[1;33m.\u001b[0m\u001b[0mshadedrelief\u001b[0m\u001b[1;33m(\u001b[0m\u001b[1;33m)\u001b[0m\u001b[1;33m\u001b[0m\u001b[1;33m\u001b[0m\u001b[0m\n",
      "\u001b[1;31mNameError\u001b[0m: name 'Basemap' is not defined"
     ]
    },
    {
     "data": {
      "text/plain": [
       "<Figure size 1440x1080 with 0 Axes>"
      ]
     },
     "metadata": {},
     "output_type": "display_data"
    }
   ],
   "source": [
    "produit = str('Viande de Volailles')\n",
    "np.zeros((300, 250, 3), dtype = int)\n",
    "\n",
    "# Extraction des data à visualiser\n",
    "lat = df_vf['Latitude'].values.astype(int)\n",
    "lon = df_vf['Longitude'].values\n",
    "exportation = df_vf['Exportations - Quantité'].values                             #milliers de tonne\n",
    "importation = df_vf['Importations - Quantité'].values                             #milliers de tonne\n",
    "BC          = exportation-importation                                             #milliers de tonne\n",
    "\n",
    "# création [BC] \n",
    "for i, row in df_vf.iterrows():\n",
    "    try: \n",
    "        df_vf.loc[i,'BC'] = row['Exportations - Quantité']-row['Importations - Quantité']\n",
    "    except ZeroDivisionError:\n",
    "        df_vf.loc[i,'BC'] = 0\n",
    "        \n",
    "# Préparation du background de la map\n",
    "fig = plt.figure(figsize=(20, 15))\n",
    "m = Basemap(projection='cyl', resolution='c', lon_0=0) # whole map\n",
    "m.etopo(scale=0.5, alpha=0.5)\n",
    "m.shadedrelief()\n",
    "m.drawcoastlines(color='gray')\n",
    "m.drawcountries(color='gray')\n",
    "m.drawstates(color='gray')\n",
    "\n",
    "# rendre échelle couleur plus lisible\n",
    "norm = colors.Normalize(df_vf['BC'].min(), df_vf['BC'].max())\n",
    "# m.scatter(lon,lat,latlon=True,c=BC, norm=norm,s=BC,cmap='Reds',edgecolors = 'k',alpha=0.7)\n",
    "m.scatter(lon,lat,latlon=True,c=np.log10(BC), norm=norm,s=df_vf['BC'].values,cmap='Reds',edgecolors = 'k',alpha=0.7)\n",
    "\n",
    "# création colorbar + légende\n",
    "# plt.colorbar(orientation=\"horizontal\", label=r'exportation')\n",
    "bornm = np.log10(1) #np.log10(df_vf['BC'].min())\n",
    "bornp = np.log10(df_vf['BC'].max())\n",
    "plt.clim(bornm,bornp)\n",
    "\n",
    "#affecter légende avec dummy points \n",
    "for BC in [-1000, 1500, 4000]: #(/!\\ attention au facteur d'échelle imposé dans le \"m.scatter\")\n",
    "        plt.scatter([], [],  c='k', edgecolors = 'k', alpha=0.5, s=BC, label=(str(\"      \")+str(BC)) )\n",
    "plt.legend(scatterpoints=1, frameon=False,labelspacing=4.5, loc='center left',title='Δ[Exports-Imports] (x 1000 tonnes)');\n",
    "title = str('Balance commerciale : ') + produit + str(' en 2018')\n",
    "plt.title(title,fontsize=20)\n",
    "\n",
    "#affichage de qlq données significtaives (forts exportateurs)\n",
    "df_vf_sample_ex = df_vf[df_vf['BC']>800]\n",
    "n=len(df_vf_sample_ex)\n",
    "for i in range (n) :\n",
    "    longi = df_vf_sample_ex.iloc[i,df_vf_sample_ex.columns.get_loc('Longitude')] \n",
    "    lati  = df_vf_sample_ex.iloc[i,df_vf_sample_ex.columns.get_loc('Latitude')] \n",
    "    zo    = df_vf_sample_ex.iloc[i,df_vf_sample_ex.columns.get_loc('Zone')] \n",
    "    plt.plot(longi,lati, 'ok', markersize=3)\n",
    "    plt.text(longi,lati, zo, fontsize=11,color='black');\n",
    "\n",
    "#affichage de qlq données significtaives (forts importateurs)\n",
    "df_vf_sample_im = df_vf[df_vf['BC']<-500]\n",
    "n=len(df_vf_sample_im)\n",
    "for i in range (n) :\n",
    "    longi = df_vf_sample_im.iloc[i,df_vf_sample_im.columns.get_loc('Longitude')] \n",
    "    lati  = df_vf_sample_im.iloc[i,df_vf_sample_im.columns.get_loc('Latitude')] \n",
    "    zo    = df_vf_sample_im.iloc[i,df_vf_sample_im.columns.get_loc('Zone')] \n",
    "    plt.plot(longi,lati, 'ok', markersize=3)\n",
    "    plt.text(longi,lati, zo, fontsize=11,color='darkblue');\n",
    "    \n",
    "plt.text(-20,-60,'Affichage des 5 plus gros exportateurs', fontsize=12, color='k') \n",
    "plt.text(-20,-65,'Quelques gros importateurs de viande de volailles', fontsize=12, color='b') \n",
    "\n",
    "plt.savefig('OUTPUTS_FORMATION/P5_basemap_balance_commerciale.jpg',dpi=300)\n",
    "plt.show()"
   ]
  },
  {
   "cell_type": "markdown",
   "metadata": {},
   "source": [
    "# Réserves mondiales de Poulets en 2018"
   ]
  },
  {
   "cell_type": "code",
   "execution_count": null,
   "metadata": {
    "ExecuteTime": {
     "end_time": "2021-10-04T12:12:20.147509Z",
     "start_time": "2021-10-04T12:12:20.147509Z"
    }
   },
   "outputs": [],
   "source": [
    "produit = str('Poulets')\n",
    "np.zeros((300, 250, 3), dtype = int)\n",
    "\n",
    "# Extraction des data à visualiser\n",
    "lat = df_vf['Latitude'].values.astype(int)\n",
    "lon = df_vf['Longitude'].values\n",
    "# df_vf['Réserves'] = df_vf['Réserves'].replace(0 ,1) #pour contourner log10(0)\n",
    "reserves = df_vf['Réserves'].values                    #milliers de tonne\n",
    "\n",
    "# Préparation du background de la map\n",
    "fig = plt.figure(figsize=(20, 15))\n",
    "m = Basemap(projection='cyl', resolution='c', lon_0=0) # whole map\n",
    "m.etopo(scale=0.5, alpha=0.5)\n",
    "m.shadedrelief()\n",
    "m.drawcoastlines(color='gray')\n",
    "m.drawcountries(color='gray')\n",
    "m.drawstates(color='gray')\n",
    "\n",
    "# rendre échelle couleur plus lisible\n",
    "norm = colors.Normalize(df_vf['Réserves'].min(), df_vf['Réserves'].max())\n",
    "m.scatter(lon,lat,latlon=True,c=np.log10(reserves), norm=norm,s=reserves/1000,cmap='Reds',edgecolors = 'k',alpha=0.7)\n",
    "\n",
    "# création colorbar + légende\n",
    "# plt.colorbar(orientation=\"horizontal\", label=r'exportation')\n",
    "bornm = np.log10(1)\n",
    "bornp = np.log10(df_vf['Réserves'].max())\n",
    "plt.clim(bornm,bornp)\n",
    "\n",
    "#affecter légende avec dummy points \n",
    "for reserves in [250, 2500, 5000]: #(/!\\ attention au facteur d'échelle imposé dans le \"m.scatter\")\n",
    "        plt.scatter([], [],  c='k', edgecolors = 'k', alpha=0.5, s=reserves, label=(str(\"      \")+str(reserves)) )\n",
    "plt.legend(scatterpoints=1, frameon=False,labelspacing=4.5, loc='center left',title='Réserves de Poulets (x 1 Million têtes)');\n",
    "title = str('Réserve mondiale de ') + produit + str(' en 2018')\n",
    "plt.title(title,fontsize=20)\n",
    "\n",
    "#affichage de qlq données significtaives (nom zone)\n",
    "df_vf_sample = df_vf[df_vf['Réserves']>1e6]\n",
    "n=len(df_vf_sample)\n",
    "for i in range (n) :\n",
    "    longi = df_vf_sample.iloc[i,df_vf_sample.columns.get_loc('Longitude')] \n",
    "    lati  = df_vf_sample.iloc[i,df_vf_sample.columns.get_loc('Latitude')] \n",
    "    zo    = df_vf_sample.iloc[i,df_vf_sample.columns.get_loc('Zone')] \n",
    "    plt.plot(longi,lati, 'ok', markersize=3)\n",
    "    plt.text(longi,lati, zo, fontsize=11);\n",
    "\n",
    "plt.text(-20,-60,'Affichage des 6 plus grosses réserves de viande de volailles', fontsize=12, color='k') \n",
    "plt.savefig('OUTPUTS_FORMATION/P5_basemap_reserves.jpg',dpi=300)\n",
    "plt.show()"
   ]
  }
 ],
 "metadata": {
  "hide_input": false,
  "kernelspec": {
   "display_name": "Python 3 (ipykernel)",
   "language": "python",
   "name": "python3"
  },
  "language_info": {
   "codemirror_mode": {
    "name": "ipython",
    "version": 3
   },
   "file_extension": ".py",
   "mimetype": "text/x-python",
   "name": "python",
   "nbconvert_exporter": "python",
   "pygments_lexer": "ipython3",
   "version": "3.8.3"
  },
  "toc": {
   "base_numbering": 1,
   "nav_menu": {},
   "number_sections": true,
   "sideBar": true,
   "skip_h1_title": false,
   "title_cell": "Table of Contents",
   "title_sidebar": "Contents",
   "toc_cell": false,
   "toc_position": {},
   "toc_section_display": true,
   "toc_window_display": false
  }
 },
 "nbformat": 4,
 "nbformat_minor": 4
}
